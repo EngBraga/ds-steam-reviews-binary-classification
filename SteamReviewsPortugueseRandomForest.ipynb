{
 "cells": [
  {
   "cell_type": "markdown",
   "id": "f43e79c2",
   "metadata": {},
   "source": [
    "# Sentiment Analysis with Random Forest - Steam Game Reviews in Pt-Br"
   ]
  },
  {
   "cell_type": "markdown",
   "id": "98c6e656",
   "metadata": {},
   "source": [
    "## Dataset Creation"
   ]
  },
  {
   "cell_type": "code",
   "execution_count": 1,
   "id": "16999295",
   "metadata": {},
   "outputs": [],
   "source": [
    "import numpy as np \n",
    "import pandas as pd \n",
    "import re\n",
    "import nltk \n",
    "import matplotlib.pyplot as plt\n",
    "%matplotlib inline"
   ]
  },
  {
   "cell_type": "markdown",
   "id": "8fe0f975",
   "metadata": {},
   "source": [
    "Import the positive reviews full dataset"
   ]
  },
  {
   "cell_type": "code",
   "execution_count": 2,
   "id": "e3b377e2",
   "metadata": {},
   "outputs": [
    {
     "name": "stdout",
     "output_type": "stream",
     "text": [
      "(52754, 2)\n"
     ]
    },
    {
     "data": {
      "text/html": [
       "<div>\n",
       "<style scoped>\n",
       "    .dataframe tbody tr th:only-of-type {\n",
       "        vertical-align: middle;\n",
       "    }\n",
       "\n",
       "    .dataframe tbody tr th {\n",
       "        vertical-align: top;\n",
       "    }\n",
       "\n",
       "    .dataframe thead th {\n",
       "        text-align: right;\n",
       "    }\n",
       "</style>\n",
       "<table border=\"1\" class=\"dataframe\">\n",
       "  <thead>\n",
       "    <tr style=\"text-align: right;\">\n",
       "      <th></th>\n",
       "      <th>reviews</th>\n",
       "      <th>sentiment</th>\n",
       "    </tr>\n",
       "  </thead>\n",
       "  <tbody>\n",
       "    <tr>\n",
       "      <th>0</th>\n",
       "      <td>Meu amigo eu tenho quase 1k de horas desse jog...</td>\n",
       "      <td>1</td>\n",
       "    </tr>\n",
       "    <tr>\n",
       "      <th>1</th>\n",
       "      <td>Tiros, explosões e bom humorUm fato que fiquei...</td>\n",
       "      <td>1</td>\n",
       "    </tr>\n",
       "    <tr>\n",
       "      <th>2</th>\n",
       "      <td>Oe! Aqui esta a minha sincera opnião ao jogo E...</td>\n",
       "      <td>1</td>\n",
       "    </tr>\n",
       "    <tr>\n",
       "      <th>3</th>\n",
       "      <td>eu gosto desse jogo, quem quiser me ad pra noi...</td>\n",
       "      <td>1</td>\n",
       "    </tr>\n",
       "    <tr>\n",
       "      <th>4</th>\n",
       "      <td>MANO, mt bom, so digo isso, vale mt apena baix...</td>\n",
       "      <td>1</td>\n",
       "    </tr>\n",
       "  </tbody>\n",
       "</table>\n",
       "</div>"
      ],
      "text/plain": [
       "                                             reviews  sentiment\n",
       "0  Meu amigo eu tenho quase 1k de horas desse jog...          1\n",
       "1  Tiros, explosões e bom humorUm fato que fiquei...          1\n",
       "2  Oe! Aqui esta a minha sincera opnião ao jogo E...          1\n",
       "3  eu gosto desse jogo, quem quiser me ad pra noi...          1\n",
       "4  MANO, mt bom, so digo isso, vale mt apena baix...          1"
      ]
     },
     "execution_count": 2,
     "metadata": {},
     "output_type": "execute_result"
    }
   ],
   "source": [
    "pos_data_path = \"datasets/pos.txt\"\n",
    "pos_dataset = pd.read_fwf(pos_data_path, widths=[10000], header=None, names=['reviews'], engine='python', sep=\"\")\n",
    "pos_dataset['sentiment'] = 1\n",
    "\n",
    "print(pos_dataset.shape)\n",
    "pos_dataset.head()"
   ]
  },
  {
   "cell_type": "markdown",
   "id": "dc278d7b",
   "metadata": {},
   "source": [
    "Import the negative reviews full dataset"
   ]
  },
  {
   "cell_type": "code",
   "execution_count": 3,
   "id": "b397b644",
   "metadata": {},
   "outputs": [
    {
     "name": "stdout",
     "output_type": "stream",
     "text": [
      "(17741, 2)\n"
     ]
    },
    {
     "data": {
      "text/html": [
       "<div>\n",
       "<style scoped>\n",
       "    .dataframe tbody tr th:only-of-type {\n",
       "        vertical-align: middle;\n",
       "    }\n",
       "\n",
       "    .dataframe tbody tr th {\n",
       "        vertical-align: top;\n",
       "    }\n",
       "\n",
       "    .dataframe thead th {\n",
       "        text-align: right;\n",
       "    }\n",
       "</style>\n",
       "<table border=\"1\" class=\"dataframe\">\n",
       "  <thead>\n",
       "    <tr style=\"text-align: right;\">\n",
       "      <th></th>\n",
       "      <th>reviews</th>\n",
       "      <th>sentiment</th>\n",
       "    </tr>\n",
       "  </thead>\n",
       "  <tbody>\n",
       "    <tr>\n",
       "      <th>0</th>\n",
       "      <td>Vamos analisar esse jogo. Depois de horas de j...</td>\n",
       "      <td>0</td>\n",
       "    </tr>\n",
       "    <tr>\n",
       "      <th>1</th>\n",
       "      <td>Eu costumava jogar Tf2 há muito tempo, mas ago...</td>\n",
       "      <td>0</td>\n",
       "    </tr>\n",
       "    <tr>\n",
       "      <th>2</th>\n",
       "      <td>você pode perder amigos com esse jogo</td>\n",
       "      <td>0</td>\n",
       "    </tr>\n",
       "    <tr>\n",
       "      <th>3</th>\n",
       "      <td>valve me esplica o do porque voces tirarao alt...</td>\n",
       "      <td>0</td>\n",
       "    </tr>\n",
       "    <tr>\n",
       "      <th>4</th>\n",
       "      <td>Não consigo jogar, diz que necessito do cd key...</td>\n",
       "      <td>0</td>\n",
       "    </tr>\n",
       "  </tbody>\n",
       "</table>\n",
       "</div>"
      ],
      "text/plain": [
       "                                             reviews  sentiment\n",
       "0  Vamos analisar esse jogo. Depois de horas de j...          0\n",
       "1  Eu costumava jogar Tf2 há muito tempo, mas ago...          0\n",
       "2              você pode perder amigos com esse jogo          0\n",
       "3  valve me esplica o do porque voces tirarao alt...          0\n",
       "4  Não consigo jogar, diz que necessito do cd key...          0"
      ]
     },
     "execution_count": 3,
     "metadata": {},
     "output_type": "execute_result"
    }
   ],
   "source": [
    "neg_data_path = \"datasets/neg.txt\"\n",
    "neg_dataset = pd.read_fwf(neg_data_path, widths=[10000], header=None, names=['reviews'], engine='python', sep=\"\")\n",
    "neg_dataset['sentiment'] = 0\n",
    "\n",
    "print(neg_dataset.shape)\n",
    "neg_dataset.head()"
   ]
  },
  {
   "cell_type": "markdown",
   "id": "928e4078",
   "metadata": {},
   "source": [
    "Creating the dataset with 10k positive and 10k negative reviews"
   ]
  },
  {
   "cell_type": "code",
   "execution_count": 4,
   "id": "434460b6",
   "metadata": {},
   "outputs": [
    {
     "data": {
      "text/html": [
       "<div>\n",
       "<style scoped>\n",
       "    .dataframe tbody tr th:only-of-type {\n",
       "        vertical-align: middle;\n",
       "    }\n",
       "\n",
       "    .dataframe tbody tr th {\n",
       "        vertical-align: top;\n",
       "    }\n",
       "\n",
       "    .dataframe thead th {\n",
       "        text-align: right;\n",
       "    }\n",
       "</style>\n",
       "<table border=\"1\" class=\"dataframe\">\n",
       "  <thead>\n",
       "    <tr style=\"text-align: right;\">\n",
       "      <th></th>\n",
       "      <th>reviews</th>\n",
       "      <th>sentiment</th>\n",
       "    </tr>\n",
       "  </thead>\n",
       "  <tbody>\n",
       "    <tr>\n",
       "      <th>0</th>\n",
       "      <td>Meu amigo eu tenho quase 1k de horas desse jog...</td>\n",
       "      <td>1</td>\n",
       "    </tr>\n",
       "    <tr>\n",
       "      <th>1</th>\n",
       "      <td>Tiros, explosões e bom humorUm fato que fiquei...</td>\n",
       "      <td>1</td>\n",
       "    </tr>\n",
       "    <tr>\n",
       "      <th>2</th>\n",
       "      <td>Oe! Aqui esta a minha sincera opnião ao jogo E...</td>\n",
       "      <td>1</td>\n",
       "    </tr>\n",
       "    <tr>\n",
       "      <th>3</th>\n",
       "      <td>eu gosto desse jogo, quem quiser me ad pra noi...</td>\n",
       "      <td>1</td>\n",
       "    </tr>\n",
       "    <tr>\n",
       "      <th>4</th>\n",
       "      <td>MANO, mt bom, so digo isso, vale mt apena baix...</td>\n",
       "      <td>1</td>\n",
       "    </tr>\n",
       "    <tr>\n",
       "      <th>...</th>\n",
       "      <td>...</td>\n",
       "      <td>...</td>\n",
       "    </tr>\n",
       "    <tr>\n",
       "      <th>9995</th>\n",
       "      <td>um dos piores dirty qe já joguei em toda minha...</td>\n",
       "      <td>0</td>\n",
       "    </tr>\n",
       "    <tr>\n",
       "      <th>9996</th>\n",
       "      <td>jogo lixo. uma merda</td>\n",
       "      <td>0</td>\n",
       "    </tr>\n",
       "    <tr>\n",
       "      <th>9997</th>\n",
       "      <td>pessimo. comprei e não roda da como o servidor...</td>\n",
       "      <td>0</td>\n",
       "    </tr>\n",
       "    <tr>\n",
       "      <th>9998</th>\n",
       "      <td>LIXO tem propaganda de amd</td>\n",
       "      <td>0</td>\n",
       "    </tr>\n",
       "    <tr>\n",
       "      <th>9999</th>\n",
       "      <td>Por enquanto fraco, os graficos são bons, apen...</td>\n",
       "      <td>0</td>\n",
       "    </tr>\n",
       "  </tbody>\n",
       "</table>\n",
       "<p>20000 rows × 2 columns</p>\n",
       "</div>"
      ],
      "text/plain": [
       "                                                reviews  sentiment\n",
       "0     Meu amigo eu tenho quase 1k de horas desse jog...          1\n",
       "1     Tiros, explosões e bom humorUm fato que fiquei...          1\n",
       "2     Oe! Aqui esta a minha sincera opnião ao jogo E...          1\n",
       "3     eu gosto desse jogo, quem quiser me ad pra noi...          1\n",
       "4     MANO, mt bom, so digo isso, vale mt apena baix...          1\n",
       "...                                                 ...        ...\n",
       "9995  um dos piores dirty qe já joguei em toda minha...          0\n",
       "9996                               jogo lixo. uma merda          0\n",
       "9997  pessimo. comprei e não roda da como o servidor...          0\n",
       "9998                         LIXO tem propaganda de amd          0\n",
       "9999  Por enquanto fraco, os graficos são bons, apen...          0\n",
       "\n",
       "[20000 rows x 2 columns]"
      ]
     },
     "execution_count": 4,
     "metadata": {},
     "output_type": "execute_result"
    }
   ],
   "source": [
    "reviews_dataset = pd.concat([pos_dataset.iloc[:10000], neg_dataset.iloc[0:10000]], axis=0)\n",
    "\n",
    "reviews_dataset"
   ]
  },
  {
   "cell_type": "code",
   "execution_count": 5,
   "id": "78a4e2f4",
   "metadata": {},
   "outputs": [
    {
     "data": {
      "text/plain": [
       "<AxesSubplot:ylabel='sentiment'>"
      ]
     },
     "execution_count": 5,
     "metadata": {},
     "output_type": "execute_result"
    },
    {
     "data": {
      "image/png": "[encoded data removed]",
      "text/plain": [
       "<Figure size 576x720 with 1 Axes>"
      ]
     },
     "metadata": {},
     "output_type": "display_data"
    }
   ],
   "source": [
    "plt.rcParams[\"figure.figsize\"] = [8,10] \n",
    "reviews_dataset.sentiment.value_counts().plot(kind='pie', autopct='%1.0f%%')"
   ]
  },
  {
   "cell_type": "markdown",
   "id": "b001ca47",
   "metadata": {},
   "source": [
    "Spliting the data / labels"
   ]
  },
  {
   "cell_type": "code",
   "execution_count": 6,
   "id": "072afda9",
   "metadata": {},
   "outputs": [],
   "source": [
    "X = reviews_dataset[\"reviews\"]\n",
    "y = reviews_dataset[\"sentiment\"]"
   ]
  },
  {
   "cell_type": "code",
   "execution_count": 7,
   "id": "7446285e",
   "metadata": {},
   "outputs": [],
   "source": [
    "def clean_text(doc):\n",
    "    document = re.sub('[^a-zA-Z]', ' ', doc)\n",
    "    document = re.sub(r\"\\s+[a-zA-Z]\\s+\", ' ', document)\n",
    "    document = re.sub(r'\\s+', ' ', document)\n",
    "    return document"
   ]
  },
  {
   "cell_type": "markdown",
   "id": "99c2cb7e",
   "metadata": {},
   "source": [
    "Cleaning the text"
   ]
  },
  {
   "cell_type": "code",
   "execution_count": 8,
   "id": "7a1e4966",
   "metadata": {},
   "outputs": [],
   "source": [
    "X_sentences = []\n",
    "reviews = list(X)\n",
    "for rev in reviews:\n",
    "    X_sentences.append(clean_text(rev))"
   ]
  },
  {
   "cell_type": "markdown",
   "id": "ea0514d9",
   "metadata": {},
   "source": [
    "## TF-IDF vectors generation"
   ]
  },
  {
   "cell_type": "code",
   "execution_count": 9,
   "id": "db384ec2",
   "metadata": {},
   "outputs": [],
   "source": [
    "from nltk.corpus import stopwords\n",
    "from sklearn.feature_extraction.text import TfidfVectorizer\n",
    "\n",
    "# Max of 1000 most ocurring words\n",
    "# the word must ocurr at least min_df = 3 times across the documents\n",
    "# Do not include words that ocurr in more than 70% (max_df) of docs (too common)\n",
    "vectorizer = TfidfVectorizer (max_features=1000, min_df=3, max_df=0.7, stop_words=stopwords.words('portuguese'))\n",
    "X = vectorizer.fit_transform(X_sentences).toarray()"
   ]
  },
  {
   "cell_type": "markdown",
   "id": "df45be99",
   "metadata": {},
   "source": [
    "Splitting the data in train and test sets"
   ]
  },
  {
   "cell_type": "code",
   "execution_count": 10,
   "id": "6a507437",
   "metadata": {},
   "outputs": [],
   "source": [
    "from sklearn.model_selection import train_test_split\n",
    "X_train, X_test, y_train, y_test = train_test_split(X, y, test_size=0.20, random_state=666)"
   ]
  },
  {
   "cell_type": "markdown",
   "id": "ea499df0",
   "metadata": {},
   "source": [
    "## Training the Model"
   ]
  },
  {
   "cell_type": "code",
   "execution_count": 11,
   "id": "670101b3",
   "metadata": {},
   "outputs": [
    {
     "data": {
      "text/plain": [
       "RandomForestClassifier(random_state=666)"
      ]
     },
     "execution_count": 11,
     "metadata": {},
     "output_type": "execute_result"
    }
   ],
   "source": [
    "from sklearn.ensemble import RandomForestClassifier\n",
    "\n",
    "clf = RandomForestClassifier(n_estimators=100, random_state=666 , verbose=0)\n",
    "clf.fit(X_train, y_train)"
   ]
  },
  {
   "cell_type": "code",
   "execution_count": 12,
   "id": "869afca0",
   "metadata": {},
   "outputs": [],
   "source": [
    "y_pred = clf.predict(X_test)"
   ]
  },
  {
   "cell_type": "code",
   "execution_count": 13,
   "id": "17c1d099",
   "metadata": {},
   "outputs": [
    {
     "name": "stdout",
     "output_type": "stream",
     "text": [
      "[[1631  405]\n",
      " [ 320 1644]]\n",
      "              precision    recall  f1-score   support\n",
      "\n",
      "           0       0.84      0.80      0.82      2036\n",
      "           1       0.80      0.84      0.82      1964\n",
      "\n",
      "    accuracy                           0.82      4000\n",
      "   macro avg       0.82      0.82      0.82      4000\n",
      "weighted avg       0.82      0.82      0.82      4000\n",
      "\n",
      "0.81875\n"
     ]
    }
   ],
   "source": [
    "from sklearn.metrics import classification_report, confusion_matrix, accuracy_score\n",
    "\n",
    "print(confusion_matrix(y_test,y_pred))\n",
    "print(classification_report(y_test,y_pred))\n",
    "print(accuracy_score(y_test,y_pred))"
   ]
  },
  {
   "cell_type": "code",
   "execution_count": 14,
   "id": "fd136db4",
   "metadata": {},
   "outputs": [
    {
     "data": {
      "image/png": "[encoded data removed]",
      "text/plain": [
       "<Figure size 540x540 with 1 Axes>"
      ]
     },
     "metadata": {
      "needs_background": "light"
     },
     "output_type": "display_data"
    }
   ],
   "source": [
    "# Print the confusion matrix using Matplotlib\n",
    "conf_matrix = confusion_matrix(y_test,y_pred)\n",
    "\n",
    "fig, ax = plt.subplots(figsize=(7.5, 7.5))\n",
    "ax.matshow(conf_matrix, cmap=plt.cm.Blues, alpha=0.3)\n",
    "for i in range(conf_matrix.shape[0]):\n",
    "    for j in range(conf_matrix.shape[1]):\n",
    "        ax.text(x=j, y=i,s=conf_matrix[i, j], va='center', ha='center', size='xx-large')\n",
    " \n",
    "plt.xlabel('Predictions', fontsize=18)\n",
    "plt.ylabel('Actuals', fontsize=18)\n",
    "plt.title('Confusion Matrix', fontsize=18)\n",
    "plt.show()"
   ]
  },
  {
   "cell_type": "markdown",
   "id": "92e43f95",
   "metadata": {},
   "source": [
    "### Testing with some sentences"
   ]
  },
  {
   "cell_type": "code",
   "execution_count": 15,
   "id": "732f24ed",
   "metadata": {},
   "outputs": [],
   "source": [
    "def pos_or_neg(review):\n",
    "    res = clf.predict(vectorizer.transform([review]))\n",
    "    if res == 1:\n",
    "        return \"Estimativa: Review Positiva\"\n",
    "    return \"Estimativa: Review Negativa\""
   ]
  },
  {
   "cell_type": "code",
   "execution_count": 16,
   "id": "f7d6d5fe",
   "metadata": {},
   "outputs": [
    {
     "name": "stdout",
     "output_type": "stream",
     "text": [
      "Estimativa: Review Negativa\n"
     ]
    }
   ],
   "source": [
    "print(pos_or_neg(\"Esse jogo é uma baita porcaria\"))"
   ]
  },
  {
   "cell_type": "code",
   "execution_count": 17,
   "id": "6fc9fc52",
   "metadata": {},
   "outputs": [
    {
     "name": "stdout",
     "output_type": "stream",
     "text": [
      "Estimativa: Review Positiva\n"
     ]
    }
   ],
   "source": [
    "print(pos_or_neg(\"Carai, que game maravilhoso\"))"
   ]
  },
  {
   "cell_type": "code",
   "execution_count": 18,
   "id": "8ea151a4",
   "metadata": {
    "scrolled": true
   },
   "outputs": [
    {
     "name": "stdout",
     "output_type": "stream",
     "text": [
      "Estimativa: Review Negativa\n"
     ]
    }
   ],
   "source": [
    "print(pos_or_neg(\"puta que pariu mano, que bosta\"))"
   ]
  },
  {
   "cell_type": "markdown",
   "id": "5ae708ea",
   "metadata": {},
   "source": [
    "### Original study results comparison"
   ]
  },
  {
   "cell_type": "markdown",
   "id": "1e66c9e1",
   "metadata": {},
   "source": [
    "Ours:"
   ]
  },
  {
   "cell_type": "code",
   "execution_count": 19,
   "id": "2c663a21",
   "metadata": {},
   "outputs": [
    {
     "name": "stdout",
     "output_type": "stream",
     "text": [
      "              precision    recall  f1-score   support\n",
      "\n",
      "           0       0.84      0.80      0.82      2036\n",
      "           1       0.80      0.84      0.82      1964\n",
      "\n",
      "    accuracy                           0.82      4000\n",
      "   macro avg       0.82      0.82      0.82      4000\n",
      "weighted avg       0.82      0.82      0.82      4000\n",
      "\n"
     ]
    }
   ],
   "source": [
    "print(classification_report(y_test,y_pred))"
   ]
  },
  {
   "cell_type": "markdown",
   "id": "0bbb7548",
   "metadata": {},
   "source": [
    "Theirs: \\\n",
    "\\\n",
    "Larissa Britto and Luciano Pacífico \\\n",
    "Evaluating Video Game Acceptance in Game Reviews using Sentiment Analysis Techniques \\\n",
    "XIX Simpósio Brasileiro de Games e Entretenimento Digital (SBGames), 2020, SBC, Porto Alegre, RS, Brasil"
   ]
  },
  {
   "cell_type": "markdown",
   "id": "b356360a",
   "metadata": {},
   "source": [
    "Tech | Accuracy | Precision | Recall | F-measure | Execution Time\n",
    "--|--|--|--|--|--\n",
    "SVM | 0.7488 ± 0.0343 | 0.7152 ± 0.0474 | 0.8283 ± 0.0387 | 0.7666 ± 0.0343 | 2.2864 ± 0.4422\n",
    "RF | 0.7952 ± 0.0292 | 0.7807 ± 0.0453 | 0.8211 ± 0.0400 | 0.7994 ± 0.0330 | 1.9811 ± 0.0879\n",
    "LR | 0.8132 ± 0.0291 | 0.8097 ± 0.0437 | 0.8185 ± 0.0402 | 0.8132 ± 0.0329 | 0.9034 ± 0.3565"
   ]
  },
  {
   "cell_type": "code",
   "execution_count": null,
   "id": "197ee795",
   "metadata": {},
   "outputs": [],
   "source": []
  }
 ],
 "metadata": {
  "kernelspec": {
   "display_name": "Python 3 (ipykernel)",
   "language": "python",
   "name": "python3"
  },
  "language_info": {
   "codemirror_mode": {
    "name": "ipython",
    "version": 3
   },
   "file_extension": ".py",
   "mimetype": "text/x-python",
   "name": "python",
   "nbconvert_exporter": "python",
   "pygments_lexer": "ipython3",
   "version": "3.9.7"
  }
 },
 "nbformat": 4,
 "nbformat_minor": 5
}
